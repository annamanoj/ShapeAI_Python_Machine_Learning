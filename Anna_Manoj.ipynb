{
  "nbformat": 4,
  "nbformat_minor": 0,
  "metadata": {
    "colab": {
      "name": "Anna Manoj.ipynb",
      "provenance": []
    },
    "kernelspec": {
      "name": "python3",
      "display_name": "Python 3"
    },
    "language_info": {
      "name": "python"
    }
  },
  "cells": [
    {
      "cell_type": "code",
      "metadata": {
        "id": "HhRkiIpqGjMv"
      },
      "source": [
        "import numpy as np\n",
        "import pandas as pd\n",
        "import sklearn"
      ],
      "execution_count": null,
      "outputs": []
    },
    {
      "cell_type": "code",
      "metadata": {
        "id": "MrgwVnLxG_9p"
      },
      "source": [
        "from sklearn.datasets import load_boston\n",
        "df = load_boston()"
      ],
      "execution_count": null,
      "outputs": []
    },
    {
      "cell_type": "code",
      "metadata": {
        "id": "sL-eoT0THJlv"
      },
      "source": [
        "df.keys()"
      ],
      "execution_count": null,
      "outputs": []
    },
    {
      "cell_type": "code",
      "metadata": {
        "id": "VbAlolOLHO4j"
      },
      "source": [
        "print(df.DESCR) #info about dataset"
      ],
      "execution_count": null,
      "outputs": []
    },
    {
      "cell_type": "code",
      "metadata": {
        "id": "fz0K4lFQHgKV"
      },
      "source": [
        "boston =pd.DataFrame(df.data, columns=df.feature_names)\n",
        "boston.head()"
      ],
      "execution_count": null,
      "outputs": []
    },
    {
      "cell_type": "code",
      "metadata": {
        "id": "dHiW6870HlDQ"
      },
      "source": [
        "boston['MEDV'] =df.target\n",
        "boston.head()"
      ],
      "execution_count": null,
      "outputs": []
    },
    {
      "cell_type": "code",
      "metadata": {
        "id": "STSs7_BYHtnw"
      },
      "source": [
        "boston.isnull()"
      ],
      "execution_count": null,
      "outputs": []
    },
    {
      "cell_type": "code",
      "metadata": {
        "id": "IDv-1viMHzoU"
      },
      "source": [
        "boston.isnull().sum()"
      ],
      "execution_count": null,
      "outputs": []
    },
    {
      "cell_type": "code",
      "metadata": {
        "id": "esqh-4uvH3yk"
      },
      "source": [
        "from sklearn.model_selection import train_test_split\n",
        "X= boston.drop('MEDV',axis=1)\n",
        "Y =boston['MEDV']\n",
        "X_train,X_test,Y_train,Y_test=train_test_split(X ,Y , test_size =0.15,random_state=5)\n",
        "\n",
        "print(X_train.shape)\n",
        "print(X_test.shape)\n",
        "print(Y_train.shape)\n",
        "print(Y_test.shape)"
      ],
      "execution_count": null,
      "outputs": []
    },
    {
      "cell_type": "code",
      "metadata": {
        "id": "Lbl_4PNNH_GY"
      },
      "source": [
        "from sklearn.linear_model import LinearRegression\n",
        "from sklearn.metrics import mean_squared_error"
      ],
      "execution_count": null,
      "outputs": []
    },
    {
      "cell_type": "code",
      "metadata": {
        "id": "CTgn3dsVIDJy"
      },
      "source": [
        "lin_model =LinearRegression()\n",
        "\n",
        "lin_model.fit(X_train,Y_train)"
      ],
      "execution_count": null,
      "outputs": []
    },
    {
      "cell_type": "code",
      "metadata": {
        "id": "trY1djqlIG5w"
      },
      "source": [
        "y_train_predict =lin_model.predict(X_train)\n",
        "rmse =(np.sqrt(mean_squared_error(Y_train,y_train_predict)))\n",
        "\n",
        "print(\"The model performence of training set\")\n",
        "print('RMSE is{}'.format(rmse))\n",
        "print(\"\\n\")\n",
        "\n",
        "y_test_predict =lin_model.predict(X_test)\n",
        "rmse =(np.sqrt(mean_squared_error(Y_test,y_test_predict)))\n",
        "\n",
        "print(\"The model performence of training set\")\n",
        "print('RMSE is{}'.format(rmse))\n",
        "print(\"\\n\")"
      ],
      "execution_count": null,
      "outputs": []
    }
  ]
}